{
 "cells": [
  {
   "cell_type": "code",
   "execution_count": 1,
   "id": "506ad70a",
   "metadata": {},
   "outputs": [],
   "source": [
    "# Importing the libraries\n",
    "import numpy as np #allow to make arrays\n",
    "import matplotlib.pyplot as plt #visualize results on charts\n",
    "import pandas as pd #import dataset and manage easily\n"
   ]
  },
  {
   "cell_type": "code",
   "execution_count": 4,
   "id": "c4791cca",
   "metadata": {},
   "outputs": [],
   "source": [
    "# Importing the training set - only importing training set, test set later on\n",
    "#rnn has no idea of the test set's data, then after training is done, test set␣will eb important\n",
    "dataset_train = pd.read_csv(r'Google_Stock_Price_Train.csv')\n",
    "#need to make into numpy arrays because only nump arrays can be input values in␣keras\n",
    "training_set = dataset_train.iloc[:, 1:2].values\n",
    "#getting everything from the columns (.values makes the numpy array)"
   ]
  },
  {
   "cell_type": "code",
   "execution_count": 5,
   "id": "1a03dc4d",
   "metadata": {},
   "outputs": [
    {
     "data": {
      "text/plain": [
       "(1258, 1)"
      ]
     },
     "execution_count": 5,
     "metadata": {},
     "output_type": "execute_result"
    }
   ],
   "source": [
    "training_set.shape\n"
   ]
  },
  {
   "cell_type": "code",
   "execution_count": 6,
   "id": "d213c6a6",
   "metadata": {},
   "outputs": [],
   "source": [
    "# Feature Scaling\n",
    "# Normalizing the Dataset\n",
    "from sklearn.preprocessing import MinMaxScaler\n",
    "sc = MinMaxScaler(feature_range = (0, 1))\n",
    "training_set_scaled = sc.fit_transform(training_set)\n",
    "#fit (gets min and max on data to apply formula) tranform(compute scale stock␣prices to each formula)\n"
   ]
  },
  {
   "cell_type": "code",
   "execution_count": 8,
   "id": "333c379b",
   "metadata": {},
   "outputs": [],
   "source": [
    "# Creating a data structure with 60 timesteps and 1 output\n",
    "#60 times steps- at each time t and look at 60 previous time steps, then make␣new prediction\n",
    "# 1 time step leads to overfitting, 20 is still too low\n",
    "#60 previous financial days- in 3 months\n",
    "X_train = []\n",
    "y_train = []\n",
    "for i in range(60, 1257): # upper bound is number of values\n",
    "    X_train.append(training_set_scaled[i-60:i, 0]) #takes 60 previous stock␣prices from 60 past stock prices\n",
    "    y_train.append(training_set_scaled[i, 0]) #contains stock price learned to␣predict\n",
    "X_train, y_train = np.array(X_train), np.array(y_train) # make into numpy␣arrays\n",
    "#Need to add dimension to because not only prescition with one stock price but␣other indicators\n",
    "# (like other columns in dataset or other stocks that may affect this one )"
   ]
  },
  {
   "cell_type": "code",
   "execution_count": 9,
   "id": "d96a60f8",
   "metadata": {},
   "outputs": [],
   "source": [
    "# Reshaping- add dimension in numpy array\n",
    "X_train = np.reshape(X_train, (X_train.shape[0], X_train.shape[1], 1))\n",
    "#adds dimension in numpy array currently only have one indicator, with new␣dimension will\n",
    "# have more indicators, be compatible for \"input shape\" of RNN\n",
    "# format according to keras documentation"
   ]
  },
  {
   "cell_type": "code",
   "execution_count": 10,
   "id": "02910eac",
   "metadata": {},
   "outputs": [
    {
     "data": {
      "text/plain": [
       "(1197, 60, 1)"
      ]
     },
     "execution_count": 10,
     "metadata": {},
     "output_type": "execute_result"
    }
   ],
   "source": [
    "X_train.shape"
   ]
  },
  {
   "cell_type": "code",
   "execution_count": 11,
   "id": "9ded9ccc",
   "metadata": {},
   "outputs": [],
   "source": [
    "#Part 2 Building RNN"
   ]
  },
  {
   "cell_type": "code",
   "execution_count": 12,
   "id": "bded426f",
   "metadata": {},
   "outputs": [],
   "source": [
    "# Importing the Keras libraries and packages\n",
    "from keras.models import Sequential\n",
    "from keras.layers import Dense\n",
    "from keras.layers import LSTM\n",
    "from keras.layers import Dropout\n"
   ]
  },
  {
   "cell_type": "code",
   "execution_count": 13,
   "id": "7f7da7af",
   "metadata": {},
   "outputs": [],
   "source": [
    "# Initialising the RNN\n",
    "regressor = Sequential()\n",
    "#reps sequence of layers, predicting continous values (so it is a regression)"
   ]
  },
  {
   "cell_type": "code",
   "execution_count": 14,
   "id": "51501763",
   "metadata": {},
   "outputs": [],
   "source": [
    "# Adding the first LSTM layer and some Dropout regularisation\n",
    "#dropout to prevent overfitting\n",
    "regressor.add(LSTM(units = 50, return_sequences = True, input_shape = (X_train.shape[1], 1)))\n",
    "#regressor- object of sequential class, can add layers to networ.\n",
    "#use lstm class and create object of lstm class- 3 args\n",
    "#num of units, return sequences- set to true because is stacked lstms, and shape\n",
    "#units- neurons in first layer. 50 in layers for high dimensionality, can␣capture upward and downward\n",
    "regressor.add(Dropout(0.2))\n",
    "# takes arg of dropout late- num of neurons want to drop. dropping 20% of␣neurons to be ignored\n",
    "#during trianing for each iteration. 10 neurons will be dropped out\n"
   ]
  },
  {
   "cell_type": "code",
   "execution_count": 15,
   "id": "2a00de8c",
   "metadata": {},
   "outputs": [],
   "source": [
    " # Adding a second LSTM layer and some Dropout regularisation\n",
    "# total of 4 layers, simply need to copy, only change is input shape so dont␣need to specify that,\n",
    "#automatically recognised through input shape\n",
    "regressor.add(LSTM(units = 50, return_sequences = True))\n",
    "regressor.add(Dropout(0.2))\n"
   ]
  },
  {
   "cell_type": "code",
   "execution_count": 16,
   "id": "3528a1d2",
   "metadata": {},
   "outputs": [],
   "source": [
    " # Adding a third LSTM layer and some Dropout regularisation\n",
    "# same as second layer\n",
    "regressor.add(LSTM(units = 50, return_sequences = True))\n",
    "regressor.add(Dropout(0.2))\n"
   ]
  },
  {
   "cell_type": "code",
   "execution_count": 17,
   "id": "9ead1135",
   "metadata": {},
   "outputs": [],
   "source": [
    "# Adding a fourth LSTM layer and some Dropout regularisation\n",
    "# almost same, but return sequence is false because it is the last lstm layer\n",
    "#(so it is removed becasue default is false)\n",
    "regressor.add(LSTM(units = 50))\n",
    "regressor.add(Dropout(0.2))\n"
   ]
  },
  {
   "cell_type": "code",
   "execution_count": 18,
   "id": "c16bad83",
   "metadata": {},
   "outputs": [],
   "source": [
    "# Adding the output layer\n",
    "#add fully connected layer through dense class- dimesion/units/neurons is 1\n",
    "regressor.add(Dense(units = 1))\n"
   ]
  },
  {
   "cell_type": "code",
   "execution_count": 19,
   "id": "ca22e5c1",
   "metadata": {},
   "outputs": [],
   "source": [
    "# Compiling the RNN\n",
    "#regressior because predicting continuous value,\n",
    "regressor.compile(optimizer = 'adam', loss = 'mean_squared_error')\n"
   ]
  },
  {
   "cell_type": "code",
   "execution_count": 20,
   "id": "b3851baf",
   "metadata": {},
   "outputs": [],
   "source": [
    "#Fitting the model"
   ]
  },
  {
   "cell_type": "code",
   "execution_count": 21,
   "id": "72535fa7",
   "metadata": {},
   "outputs": [
    {
     "name": "stdout",
     "output_type": "stream",
     "text": [
      "Epoch 1/200\n",
      "38/38 [==============================] - 13s 81ms/step - loss: 0.0493\n",
      "Epoch 2/200\n",
      "38/38 [==============================] - 3s 84ms/step - loss: 0.0068\n",
      "Epoch 3/200\n",
      "38/38 [==============================] - 3s 85ms/step - loss: 0.0055\n",
      "Epoch 4/200\n",
      "38/38 [==============================] - 3s 80ms/step - loss: 0.0054\n",
      "Epoch 5/200\n",
      "38/38 [==============================] - 3s 80ms/step - loss: 0.0054\n",
      "Epoch 6/200\n",
      "38/38 [==============================] - 3s 80ms/step - loss: 0.0052\n",
      "Epoch 7/200\n",
      "38/38 [==============================] - 3s 82ms/step - loss: 0.0052\n",
      "Epoch 8/200\n",
      "38/38 [==============================] - 3s 87ms/step - loss: 0.0048\n",
      "Epoch 9/200\n",
      "38/38 [==============================] - 3s 80ms/step - loss: 0.0044\n",
      "Epoch 10/200\n",
      "38/38 [==============================] - 3s 79ms/step - loss: 0.0047\n",
      "Epoch 11/200\n",
      "38/38 [==============================] - 3s 80ms/step - loss: 0.0039\n",
      "Epoch 12/200\n",
      "38/38 [==============================] - 3s 79ms/step - loss: 0.0049\n",
      "Epoch 13/200\n",
      "38/38 [==============================] - 3s 80ms/step - loss: 0.0041\n",
      "Epoch 14/200\n",
      "38/38 [==============================] - 3s 79ms/step - loss: 0.0039\n",
      "Epoch 15/200\n",
      "38/38 [==============================] - 3s 79ms/step - loss: 0.0042\n",
      "Epoch 16/200\n",
      "38/38 [==============================] - 3s 80ms/step - loss: 0.0038\n",
      "Epoch 17/200\n",
      "38/38 [==============================] - 3s 79ms/step - loss: 0.0039\n",
      "Epoch 18/200\n",
      "38/38 [==============================] - 3s 79ms/step - loss: 0.0037\n",
      "Epoch 19/200\n",
      "38/38 [==============================] - 3s 80ms/step - loss: 0.0038\n",
      "Epoch 20/200\n",
      "38/38 [==============================] - 3s 80ms/step - loss: 0.0038\n",
      "Epoch 21/200\n",
      "38/38 [==============================] - 3s 79ms/step - loss: 0.0035\n",
      "Epoch 22/200\n",
      "38/38 [==============================] - 3s 80ms/step - loss: 0.0034\n",
      "Epoch 23/200\n",
      "38/38 [==============================] - 3s 82ms/step - loss: 0.0036\n",
      "Epoch 24/200\n",
      "38/38 [==============================] - 3s 92ms/step - loss: 0.0037\n",
      "Epoch 25/200\n",
      "38/38 [==============================] - 3s 79ms/step - loss: 0.0034\n",
      "Epoch 26/200\n",
      "38/38 [==============================] - 3s 80ms/step - loss: 0.0029\n",
      "Epoch 27/200\n",
      "38/38 [==============================] - 3s 80ms/step - loss: 0.0032\n",
      "Epoch 28/200\n",
      "38/38 [==============================] - 3s 80ms/step - loss: 0.0031\n",
      "Epoch 29/200\n",
      "38/38 [==============================] - 3s 85ms/step - loss: 0.0033\n",
      "Epoch 30/200\n",
      "38/38 [==============================] - 3s 83ms/step - loss: 0.0029\n",
      "Epoch 31/200\n",
      "38/38 [==============================] - 3s 82ms/step - loss: 0.0034\n",
      "Epoch 32/200\n",
      "38/38 [==============================] - 3s 81ms/step - loss: 0.0030\n",
      "Epoch 33/200\n",
      "38/38 [==============================] - 3s 85ms/step - loss: 0.0026\n",
      "Epoch 34/200\n",
      "38/38 [==============================] - 3s 81ms/step - loss: 0.0029\n",
      "Epoch 35/200\n",
      "38/38 [==============================] - 3s 80ms/step - loss: 0.0028\n",
      "Epoch 36/200\n",
      "38/38 [==============================] - 3s 81ms/step - loss: 0.0031\n",
      "Epoch 37/200\n",
      "38/38 [==============================] - 3s 84ms/step - loss: 0.0030\n",
      "Epoch 38/200\n",
      "38/38 [==============================] - 3s 84ms/step - loss: 0.0030\n",
      "Epoch 39/200\n",
      "38/38 [==============================] - 3s 80ms/step - loss: 0.0029\n",
      "Epoch 40/200\n",
      "38/38 [==============================] - 3s 80ms/step - loss: 0.0026\n",
      "Epoch 41/200\n",
      "38/38 [==============================] - 3s 81ms/step - loss: 0.0027\n",
      "Epoch 42/200\n",
      "38/38 [==============================] - 3s 84ms/step - loss: 0.0025\n",
      "Epoch 43/200\n",
      "38/38 [==============================] - 3s 83ms/step - loss: 0.0024\n",
      "Epoch 44/200\n",
      "38/38 [==============================] - 3s 82ms/step - loss: 0.0028\n",
      "Epoch 45/200\n",
      "38/38 [==============================] - 3s 85ms/step - loss: 0.0025\n",
      "Epoch 46/200\n",
      "38/38 [==============================] - 3s 80ms/step - loss: 0.0026\n",
      "Epoch 47/200\n",
      "38/38 [==============================] - 3s 84ms/step - loss: 0.0025\n",
      "Epoch 48/200\n",
      "38/38 [==============================] - 3s 81ms/step - loss: 0.0024\n",
      "Epoch 49/200\n",
      "38/38 [==============================] - 3s 82ms/step - loss: 0.0027\n",
      "Epoch 50/200\n",
      "38/38 [==============================] - 3s 84ms/step - loss: 0.0026\n",
      "Epoch 51/200\n",
      "38/38 [==============================] - 3s 80ms/step - loss: 0.0024\n",
      "Epoch 52/200\n",
      "38/38 [==============================] - 3s 82ms/step - loss: 0.0020\n",
      "Epoch 53/200\n",
      "38/38 [==============================] - 3s 88ms/step - loss: 0.0026\n",
      "Epoch 54/200\n",
      "38/38 [==============================] - 3s 86ms/step - loss: 0.0027\n",
      "Epoch 55/200\n",
      "38/38 [==============================] - 3s 85ms/step - loss: 0.0021\n",
      "Epoch 56/200\n",
      "38/38 [==============================] - 3s 80ms/step - loss: 0.0022\n",
      "Epoch 57/200\n",
      "38/38 [==============================] - 3s 82ms/step - loss: 0.0021\n",
      "Epoch 58/200\n",
      "38/38 [==============================] - 3s 80ms/step - loss: 0.0020\n",
      "Epoch 59/200\n",
      "38/38 [==============================] - 3s 80ms/step - loss: 0.0022\n",
      "Epoch 60/200\n",
      "38/38 [==============================] - 3s 85ms/step - loss: 0.0020\n",
      "Epoch 61/200\n",
      "38/38 [==============================] - 3s 81ms/step - loss: 0.0019\n",
      "Epoch 62/200\n",
      "38/38 [==============================] - 3s 81ms/step - loss: 0.0024\n",
      "Epoch 63/200\n",
      "38/38 [==============================] - 3s 84ms/step - loss: 0.0021\n",
      "Epoch 64/200\n",
      "38/38 [==============================] - 3s 88ms/step - loss: 0.0020\n",
      "Epoch 65/200\n",
      "38/38 [==============================] - 3s 81ms/step - loss: 0.0019\n",
      "Epoch 66/200\n",
      "38/38 [==============================] - 3s 81ms/step - loss: 0.0020\n",
      "Epoch 67/200\n",
      "38/38 [==============================] - 3s 81ms/step - loss: 0.0018\n",
      "Epoch 68/200\n",
      "38/38 [==============================] - 3s 81ms/step - loss: 0.0019\n",
      "Epoch 69/200\n",
      "38/38 [==============================] - 3s 81ms/step - loss: 0.0021\n",
      "Epoch 70/200\n",
      "38/38 [==============================] - 3s 84ms/step - loss: 0.0018\n",
      "Epoch 71/200\n",
      "38/38 [==============================] - 3s 83ms/step - loss: 0.0018\n",
      "Epoch 72/200\n",
      "38/38 [==============================] - 3s 82ms/step - loss: 0.0017\n",
      "Epoch 73/200\n",
      "38/38 [==============================] - 3s 81ms/step - loss: 0.0020\n",
      "Epoch 74/200\n",
      "38/38 [==============================] - 3s 81ms/step - loss: 0.0020\n",
      "Epoch 75/200\n",
      "38/38 [==============================] - 3s 81ms/step - loss: 0.0017\n",
      "Epoch 76/200\n",
      "38/38 [==============================] - 3s 81ms/step - loss: 0.0018\n",
      "Epoch 77/200\n",
      "38/38 [==============================] - 3s 82ms/step - loss: 0.0019\n",
      "Epoch 78/200\n",
      "38/38 [==============================] - 3s 81ms/step - loss: 0.0016\n",
      "Epoch 79/200\n",
      "38/38 [==============================] - 3s 84ms/step - loss: 0.0018\n",
      "Epoch 80/200\n",
      "38/38 [==============================] - 3s 86ms/step - loss: 0.0020\n",
      "Epoch 81/200\n",
      "38/38 [==============================] - 3s 83ms/step - loss: 0.0016\n",
      "Epoch 82/200\n",
      "38/38 [==============================] - 3s 84ms/step - loss: 0.0019\n",
      "Epoch 83/200\n",
      "38/38 [==============================] - 3s 83ms/step - loss: 0.0016\n",
      "Epoch 84/200\n",
      "38/38 [==============================] - 3s 83ms/step - loss: 0.0016\n",
      "Epoch 85/200\n",
      "38/38 [==============================] - 3s 82ms/step - loss: 0.0017\n",
      "Epoch 86/200\n",
      "38/38 [==============================] - 3s 86ms/step - loss: 0.0017\n",
      "Epoch 87/200\n",
      "38/38 [==============================] - 3s 85ms/step - loss: 0.0017\n",
      "Epoch 88/200\n",
      "38/38 [==============================] - 3s 84ms/step - loss: 0.0015\n",
      "Epoch 89/200\n",
      "38/38 [==============================] - 3s 83ms/step - loss: 0.0016\n",
      "Epoch 90/200\n",
      "38/38 [==============================] - 3s 86ms/step - loss: 0.0016\n",
      "Epoch 91/200\n",
      "38/38 [==============================] - 3s 84ms/step - loss: 0.0015\n",
      "Epoch 92/200\n",
      "38/38 [==============================] - 3s 84ms/step - loss: 0.0015\n",
      "Epoch 93/200\n",
      "38/38 [==============================] - 3s 85ms/step - loss: 0.0016\n",
      "Epoch 94/200\n",
      "38/38 [==============================] - 3s 84ms/step - loss: 0.0014\n",
      "Epoch 95/200\n",
      "38/38 [==============================] - 3s 85ms/step - loss: 0.0015\n",
      "Epoch 96/200\n",
      "38/38 [==============================] - 3s 82ms/step - loss: 0.0015\n",
      "Epoch 97/200\n",
      "38/38 [==============================] - 3s 81ms/step - loss: 0.0015\n",
      "Epoch 98/200\n",
      "38/38 [==============================] - 3s 84ms/step - loss: 0.0013\n",
      "Epoch 99/200\n",
      "38/38 [==============================] - 3s 82ms/step - loss: 0.0015\n",
      "Epoch 100/200\n",
      "38/38 [==============================] - 3s 83ms/step - loss: 0.0014\n"
     ]
    },
    {
     "name": "stdout",
     "output_type": "stream",
     "text": [
      "Epoch 101/200\n",
      "38/38 [==============================] - 3s 80ms/step - loss: 0.0014\n",
      "Epoch 102/200\n",
      "38/38 [==============================] - 3s 86ms/step - loss: 0.0013\n",
      "Epoch 103/200\n",
      "38/38 [==============================] - 3s 82ms/step - loss: 0.0013\n",
      "Epoch 104/200\n",
      "38/38 [==============================] - 3s 83ms/step - loss: 0.0014\n",
      "Epoch 105/200\n",
      "38/38 [==============================] - 3s 81ms/step - loss: 0.0015\n",
      "Epoch 106/200\n",
      "38/38 [==============================] - 3s 82ms/step - loss: 0.0014\n",
      "Epoch 107/200\n",
      "38/38 [==============================] - 3s 81ms/step - loss: 0.0014\n",
      "Epoch 108/200\n",
      "38/38 [==============================] - 3s 80ms/step - loss: 0.0012\n",
      "Epoch 109/200\n",
      "38/38 [==============================] - 3s 82ms/step - loss: 0.0013\n",
      "Epoch 110/200\n",
      "38/38 [==============================] - 3s 80ms/step - loss: 0.0013\n",
      "Epoch 111/200\n",
      "38/38 [==============================] - 3s 82ms/step - loss: 0.0013\n",
      "Epoch 112/200\n",
      "38/38 [==============================] - 3s 81ms/step - loss: 0.0014\n",
      "Epoch 113/200\n",
      "38/38 [==============================] - 3s 83ms/step - loss: 0.0015\n",
      "Epoch 114/200\n",
      "38/38 [==============================] - 3s 82ms/step - loss: 0.0013\n",
      "Epoch 115/200\n",
      "38/38 [==============================] - 3s 82ms/step - loss: 0.0014\n",
      "Epoch 116/200\n",
      "38/38 [==============================] - 3s 80ms/step - loss: 0.0015\n",
      "Epoch 117/200\n",
      "38/38 [==============================] - 3s 80ms/step - loss: 0.0014\n",
      "Epoch 118/200\n",
      "38/38 [==============================] - 4s 105ms/step - loss: 0.0012\n",
      "Epoch 119/200\n",
      "38/38 [==============================] - 3s 87ms/step - loss: 0.0012\n",
      "Epoch 120/200\n",
      "38/38 [==============================] - 3s 81ms/step - loss: 0.0012\n",
      "Epoch 121/200\n",
      "38/38 [==============================] - 3s 81ms/step - loss: 0.0013\n",
      "Epoch 122/200\n",
      "38/38 [==============================] - 3s 81ms/step - loss: 0.0012\n",
      "Epoch 123/200\n",
      "38/38 [==============================] - 3s 81ms/step - loss: 0.0014\n",
      "Epoch 124/200\n",
      "38/38 [==============================] - 3s 82ms/step - loss: 0.0014\n",
      "Epoch 125/200\n",
      "38/38 [==============================] - 3s 81ms/step - loss: 0.0012\n",
      "Epoch 126/200\n",
      "38/38 [==============================] - 3s 83ms/step - loss: 0.0014\n",
      "Epoch 127/200\n",
      "38/38 [==============================] - 3s 88ms/step - loss: 0.0011\n",
      "Epoch 128/200\n",
      "38/38 [==============================] - 3s 86ms/step - loss: 0.0011\n",
      "Epoch 129/200\n",
      "38/38 [==============================] - 3s 83ms/step - loss: 0.0011\n",
      "Epoch 130/200\n",
      "38/38 [==============================] - 3s 81ms/step - loss: 0.0012\n",
      "Epoch 131/200\n",
      "38/38 [==============================] - 3s 81ms/step - loss: 0.0014\n",
      "Epoch 132/200\n",
      "38/38 [==============================] - 3s 91ms/step - loss: 0.0011\n",
      "Epoch 133/200\n",
      "38/38 [==============================] - 4s 96ms/step - loss: 0.0011\n",
      "Epoch 134/200\n",
      "38/38 [==============================] - 4s 101ms/step - loss: 0.0012\n",
      "Epoch 135/200\n",
      "38/38 [==============================] - 4s 95ms/step - loss: 0.0013\n",
      "Epoch 136/200\n",
      "38/38 [==============================] - 3s 88ms/step - loss: 0.0012\n",
      "Epoch 137/200\n",
      "38/38 [==============================] - 4s 113ms/step - loss: 0.0013\n",
      "Epoch 138/200\n",
      "38/38 [==============================] - 4s 95ms/step - loss: 0.0011\n",
      "Epoch 139/200\n",
      "38/38 [==============================] - 3s 85ms/step - loss: 0.0012\n",
      "Epoch 140/200\n",
      "38/38 [==============================] - 3s 86ms/step - loss: 0.0010\n",
      "Epoch 141/200\n",
      "38/38 [==============================] - 3s 88ms/step - loss: 0.0012\n",
      "Epoch 142/200\n",
      "38/38 [==============================] - 3s 86ms/step - loss: 0.0011\n",
      "Epoch 143/200\n",
      "38/38 [==============================] - 3s 84ms/step - loss: 0.0011\n",
      "Epoch 144/200\n",
      "38/38 [==============================] - 3s 82ms/step - loss: 0.0012\n",
      "Epoch 145/200\n",
      "38/38 [==============================] - 3s 83ms/step - loss: 0.0010\n",
      "Epoch 146/200\n",
      "38/38 [==============================] - 3s 82ms/step - loss: 0.0011\n",
      "Epoch 147/200\n",
      "38/38 [==============================] - 3s 86ms/step - loss: 0.0011\n",
      "Epoch 148/200\n",
      "38/38 [==============================] - 4s 93ms/step - loss: 0.0012\n",
      "Epoch 149/200\n",
      "38/38 [==============================] - 4s 117ms/step - loss: 0.0012\n",
      "Epoch 150/200\n",
      "38/38 [==============================] - 3s 90ms/step - loss: 0.0012\n",
      "Epoch 151/200\n",
      "38/38 [==============================] - 4s 113ms/step - loss: 0.0010\n",
      "Epoch 152/200\n",
      "38/38 [==============================] - 4s 94ms/step - loss: 0.0011\n",
      "Epoch 153/200\n",
      "38/38 [==============================] - 4s 99ms/step - loss: 0.0012\n",
      "Epoch 154/200\n",
      "38/38 [==============================] - 3s 81ms/step - loss: 0.0012\n",
      "Epoch 155/200\n",
      "38/38 [==============================] - 3s 77ms/step - loss: 0.0010\n",
      "Epoch 156/200\n",
      "38/38 [==============================] - 3s 81ms/step - loss: 0.0011\n",
      "Epoch 157/200\n",
      "38/38 [==============================] - 3s 78ms/step - loss: 0.0011\n",
      "Epoch 158/200\n",
      "38/38 [==============================] - 3s 83ms/step - loss: 0.0010\n",
      "Epoch 159/200\n",
      "38/38 [==============================] - 3s 83ms/step - loss: 0.0011\n",
      "Epoch 160/200\n",
      "38/38 [==============================] - 3s 77ms/step - loss: 0.0012\n",
      "Epoch 161/200\n",
      "38/38 [==============================] - 3s 85ms/step - loss: 0.0011\n",
      "Epoch 162/200\n",
      "38/38 [==============================] - 4s 109ms/step - loss: 0.0010\n",
      "Epoch 163/200\n",
      "38/38 [==============================] - 4s 105ms/step - loss: 0.0012\n",
      "Epoch 164/200\n",
      "38/38 [==============================] - 3s 87ms/step - loss: 0.0011\n",
      "Epoch 165/200\n",
      "38/38 [==============================] - 3s 80ms/step - loss: 0.0011\n",
      "Epoch 166/200\n",
      "38/38 [==============================] - 3s 77ms/step - loss: 0.0011\n",
      "Epoch 167/200\n",
      "38/38 [==============================] - 3s 77ms/step - loss: 9.8148e-04\n",
      "Epoch 168/200\n",
      "38/38 [==============================] - 3s 85ms/step - loss: 0.0011\n",
      "Epoch 169/200\n",
      "38/38 [==============================] - 3s 80ms/step - loss: 0.0012\n",
      "Epoch 170/200\n",
      "38/38 [==============================] - 3s 78ms/step - loss: 9.6188e-04\n",
      "Epoch 171/200\n",
      "38/38 [==============================] - 3s 78ms/step - loss: 9.4090e-04\n",
      "Epoch 172/200\n",
      "38/38 [==============================] - 3s 85ms/step - loss: 0.0010\n",
      "Epoch 173/200\n",
      "38/38 [==============================] - 3s 78ms/step - loss: 0.0010\n",
      "Epoch 174/200\n",
      "38/38 [==============================] - 3s 84ms/step - loss: 0.0010\n",
      "Epoch 175/200\n",
      "38/38 [==============================] - 3s 79ms/step - loss: 0.0011\n",
      "Epoch 176/200\n",
      "38/38 [==============================] - 3s 78ms/step - loss: 0.0011\n",
      "Epoch 177/200\n",
      "38/38 [==============================] - 3s 78ms/step - loss: 0.0012\n",
      "Epoch 178/200\n",
      "38/38 [==============================] - 3s 80ms/step - loss: 0.0010\n",
      "Epoch 179/200\n",
      "38/38 [==============================] - 3s 78ms/step - loss: 0.0011\n",
      "Epoch 180/200\n",
      "38/38 [==============================] - 3s 84ms/step - loss: 0.0010\n",
      "Epoch 181/200\n",
      "38/38 [==============================] - 4s 102ms/step - loss: 9.4472e-04\n",
      "Epoch 182/200\n",
      "38/38 [==============================] - 4s 107ms/step - loss: 9.5623e-04\n",
      "Epoch 183/200\n",
      "38/38 [==============================] - 4s 96ms/step - loss: 0.0012\n",
      "Epoch 184/200\n",
      "38/38 [==============================] - 3s 80ms/step - loss: 0.0013\n",
      "Epoch 185/200\n",
      "38/38 [==============================] - 3s 78ms/step - loss: 9.9745e-04\n",
      "Epoch 186/200\n",
      "38/38 [==============================] - 3s 78ms/step - loss: 9.6725e-04\n",
      "Epoch 187/200\n",
      "38/38 [==============================] - 3s 81ms/step - loss: 0.0011\n",
      "Epoch 188/200\n",
      "38/38 [==============================] - 3s 78ms/step - loss: 0.0011\n",
      "Epoch 189/200\n",
      "38/38 [==============================] - 3s 81ms/step - loss: 0.0011\n",
      "Epoch 190/200\n",
      "38/38 [==============================] - 4s 95ms/step - loss: 0.0010\n",
      "Epoch 191/200\n",
      "38/38 [==============================] - 4s 92ms/step - loss: 9.7323e-04\n",
      "Epoch 192/200\n",
      "38/38 [==============================] - 3s 86ms/step - loss: 0.0010\n",
      "Epoch 193/200\n",
      "38/38 [==============================] - 3s 79ms/step - loss: 0.0011\n",
      "Epoch 194/200\n",
      "38/38 [==============================] - 3s 83ms/step - loss: 9.4059e-04\n",
      "Epoch 195/200\n",
      "38/38 [==============================] - 3s 80ms/step - loss: 0.0011\n",
      "Epoch 196/200\n",
      "38/38 [==============================] - 3s 77ms/step - loss: 0.0011\n",
      "Epoch 197/200\n",
      "38/38 [==============================] - 3s 78ms/step - loss: 0.0010\n",
      "Epoch 198/200\n",
      "38/38 [==============================] - 3s 78ms/step - loss: 9.4674e-04\n",
      "Epoch 199/200\n"
     ]
    },
    {
     "name": "stdout",
     "output_type": "stream",
     "text": [
      "38/38 [==============================] - 3s 78ms/step - loss: 0.0010\n",
      "Epoch 200/200\n",
      "38/38 [==============================] - 3s 78ms/step - loss: 0.0010\n"
     ]
    },
    {
     "data": {
      "text/plain": [
       "<keras.callbacks.History at 0x19e112c5a90>"
      ]
     },
     "execution_count": 21,
     "metadata": {},
     "output_type": "execute_result"
    }
   ],
   "source": [
    "# Fitting the RNN to the Training set\n",
    "#have not made connection to training set, training will take place\n",
    "regressor.fit(X_train, y_train, epochs = 200, batch_size = 32)\n",
    "#100 gives good convergence trained on certain batch sizes,\n"
   ]
  },
  {
   "cell_type": "code",
   "execution_count": 24,
   "id": "6d873606",
   "metadata": {},
   "outputs": [],
   "source": [
    "# Getting the Test Set\n",
    "dataset_test = pd.read_csv('Google_Stock_Price_Test.csv')\n",
    "real_stock_price = dataset_test.iloc[:, 1:2].values"
   ]
  },
  {
   "cell_type": "code",
   "execution_count": 26,
   "id": "b180437d",
   "metadata": {},
   "outputs": [],
   "source": [
    "# Getting the predicted stock price\n",
    "dataset_total = pd.concat((dataset_train['Open'], dataset_test['Open']), axis =0)\n",
    "inputs = dataset_total[len(dataset_total) - len(dataset_test) - 60:].values\n",
    "#getting input of each previous financial days\n",
    "inputs = inputs.reshape(-1,1)\n",
    "inputs = sc.transform(inputs)\n",
    "X_test = []"
   ]
  },
  {
   "cell_type": "code",
   "execution_count": 27,
   "id": "646c4d17",
   "metadata": {},
   "outputs": [
    {
     "data": {
      "text/plain": [
       "(80, 1)"
      ]
     },
     "execution_count": 27,
     "metadata": {},
     "output_type": "execute_result"
    }
   ],
   "source": [
    "inputs.shape\n"
   ]
  },
  {
   "cell_type": "code",
   "execution_count": 29,
   "id": "162c3e97",
   "metadata": {},
   "outputs": [
    {
     "name": "stdout",
     "output_type": "stream",
     "text": [
      "1/1 [==============================] - 2s 2s/step\n"
     ]
    }
   ],
   "source": [
    "for i in range(60, 80):\n",
    "    X_test.append(inputs[i-60:i, 0])\n",
    "X_test = np.array(X_test)\n",
    "X_test = np.reshape(X_test, (X_test.shape[0], X_test.shape[1], 1))\n",
    "predicted_stock_price = regressor.predict(X_test)\n",
    "predicted_stock_price = sc.inverse_transform(predicted_stock_price)\n"
   ]
  },
  {
   "cell_type": "code",
   "execution_count": 31,
   "id": "b50c6539",
   "metadata": {},
   "outputs": [
    {
     "data": {
      "image/png": "[encoded data removed]",
      "text/plain": [
       "<Figure size 432x288 with 1 Axes>"
      ]
     },
     "metadata": {
      "needs_background": "light"
     },
     "output_type": "display_data"
    }
   ],
   "source": [
    "# Visualising the results\n",
    "plt.plot(real_stock_price, color = 'red',label = 'Real Google Stock Price')\n",
    "plt.plot(predicted_stock_price, color = 'blue',label='Predicted Google Stock␣Price')\n",
    "plt.title('Google Stock Price Prediction')\n",
    "plt.xlabel('Time')\n",
    "plt.ylabel('Google Stock Price')\n",
    "plt.legend()\n",
    "plt.show()\n"
   ]
  },
  {
   "cell_type": "code",
   "execution_count": null,
   "id": "e0f1ce43",
   "metadata": {},
   "outputs": [],
   "source": []
  }
 ],
 "metadata": {
  "kernelspec": {
   "display_name": "Python 3 (ipykernel)",
   "language": "python",
   "name": "python3"
  },
  "language_info": {
   "codemirror_mode": {
    "name": "ipython",
    "version": 3
   },
   "file_extension": ".py",
   "mimetype": "text/x-python",
   "name": "python",
   "nbconvert_exporter": "python",
   "pygments_lexer": "ipython3",
   "version": "3.9.7"
  }
 },
 "nbformat": 4,
 "nbformat_minor": 5
}
